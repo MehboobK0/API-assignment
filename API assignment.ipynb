{
 "cells": [
  {
   "cell_type": "markdown",
   "id": "545af8ef",
   "metadata": {},
   "source": [
    "Q1. An API (Application Programming Interface) is a set of rules, protocols, and tools that allows different software applications to communicate with each other. In real life, an API is used when you use a mobile app to check the weather forecast, where the app sends a request to a weather service's API to retrieve the current weather data.\n",
    "\n",
    "Q2. Advantages of using API:\n",
    "\n",
    "Encapsulation: APIs hide the internal implementation details of a service, allowing users to interact with it using a defined interface.\n",
    "Reusability: APIs promote code reuse by allowing multiple applications to access the same functionality.\n",
    "Scalability: APIs enable the scaling of applications by allowing them to interact with external services.\n",
    "Flexibility: APIs provide flexibility in integrating various services and technologies within an application.\n",
    "Disadvantages of using API:\n",
    "\n",
    "Dependency: Applications relying on third-party APIs are vulnerable to changes or discontinuation of the API, impacting their functionality.\n",
    "Complexity: Integrating multiple APIs and managing their interactions can add complexity to application development and maintenance.\n",
    "Security Risks: APIs can expose sensitive data or functionality, leading to security vulnerabilities if not properly secured.\n",
    "Performance Overhead: Each API call introduces network latency and overhead, impacting application performance.\n",
    "Q3. A Web API is an API that is accessed over the internet using HTTP or HTTPS protocols. It enables communication between different software systems over the web. The main difference between API and Web API is that while APIs can be used for communication between any type of software applications, Web APIs specifically facilitate communication over the web, making them accessible from anywhere with an internet connection.\n",
    "\n",
    "Q4.\n",
    "\n",
    "REST (Representational State Transfer) is an architectural style for designing networked applications. It relies on stateless communication between clients and servers, using standard HTTP methods (GET, POST, PUT, DELETE) to perform CRUD (Create, Read, Update, Delete) operations on resources. REST APIs are lightweight, scalable, and widely used for building web services.\n",
    "SOAP (Simple Object Access Protocol) is a protocol for exchanging structured information in the implementation of web services. It defines a strict messaging format using XML for message exchange over different protocols such as HTTP, SMTP, or TCP. SOAP APIs are known for their strong typing, security features, and reliability.\n",
    "Shortcomings of SOAP:\n",
    "\n",
    "Complexity: SOAP messages are verbose due to their XML format, leading to increased network overhead and slower performance compared to REST.\n",
    "Tight Coupling: SOAP APIs often require strict adherence to defined schemas and contracts, leading to tight coupling between client and server implementations.\n",
    "Limited Browser Support: SOAP APIs are not well-supported by web browsers, making them less suitable for client-side development and browser-based applications.\n",
    "Q5.\n",
    "\n",
    "REST (Representational State Transfer) is an architectural style for designing networked applications. It relies on stateless communication between clients and servers, using standard HTTP methods (GET, POST, PUT, DELETE) to perform CRUD (Create, Read, Update, Delete) operations on resources. REST APIs are lightweight, scalable, and widely used for building web services.\n",
    "SOAP (Simple Object Access Protocol) is a protocol for exchanging structured information in the implementation of web services. It defines a strict messaging format using XML for message exchange over different protocols such as HTTP, SMTP, or TCP. SOAP APIs are known for their strong typing, security features, and reliability.\n",
    "Key differences between REST and SOAP:\n",
    "\n",
    "Communication Style: REST uses stateless communication over HTTP, while SOAP uses XML-based messaging over various protocols.\n",
    "Message Format: REST typically uses lightweight formats such as JSON or XML, while SOAP relies on XML for message exchange.\n",
    "Interface Complexity: REST APIs have simpler interfaces and are easier to use, while SOAP APIs often require strict adherence to defined schemas and contracts, leading to complexity.\n",
    "Browser Support: REST APIs are well-supported by web browsers, making them suitable for client-side development, while SOAP APIs have limited browser support.\n",
    "Performance: REST APIs are generally more lightweight and efficient than SOAP APIs due to their simpler message formats and stateless communication."
   ]
  },
  {
   "cell_type": "code",
   "execution_count": null,
   "id": "328fcb80",
   "metadata": {},
   "outputs": [],
   "source": []
  }
 ],
 "metadata": {
  "kernelspec": {
   "display_name": "Python 3 (ipykernel)",
   "language": "python",
   "name": "python3"
  },
  "language_info": {
   "codemirror_mode": {
    "name": "ipython",
    "version": 3
   },
   "file_extension": ".py",
   "mimetype": "text/x-python",
   "name": "python",
   "nbconvert_exporter": "python",
   "pygments_lexer": "ipython3",
   "version": "3.9.12"
  }
 },
 "nbformat": 4,
 "nbformat_minor": 5
}
